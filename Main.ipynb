{
 "cells": [
  {
   "cell_type": "code",
   "execution_count": 1,
   "id": "initial_id",
   "metadata": {
    "collapsed": true,
    "ExecuteTime": {
     "end_time": "2024-04-17T08:20:49.922247600Z",
     "start_time": "2024-04-17T08:20:47.811264900Z"
    }
   },
   "outputs": [],
   "source": [
    "#Dpendecies\n",
    "import pandas as pd\n",
    "import numpy as np\n",
    "import matplotlib.pyplot as plt\n",
    "import seaborn as sns\n",
    "from sklearn import metrics\n",
    "import plotly.express as px\n",
    "from sklearn.model_selection import train_test_split\n",
    "from sklearn.linear_model import LogisticRegression\n",
    "from sklearn.tree import DecisionTreeClassifier\n",
    "from sklearn.ensemble import RandomForestClassifier"
   ]
  },
  {
   "cell_type": "markdown",
   "source": [
    "# importing dataset"
   ],
   "metadata": {
    "collapsed": false
   },
   "id": "77555f30ae80d0ba"
  },
  {
   "cell_type": "code",
   "outputs": [
    {
     "data": {
      "text/plain": "      Unnamed: 0  Age  Gender    Education Level              Job Title  \\\n0              0   32    Male         Bachelor's      Software Engineer   \n1              1   28  Female           Master's           Data Analyst   \n2              2   45    Male                PhD         Senior Manager   \n3              3   36  Female         Bachelor's        Sales Associate   \n4              4   52    Male           Master's               Director   \n...          ...  ...     ...                ...                    ...   \n6695        6699   49  Female                PhD  Director of Marketing   \n6696        6700   32    Male        High School        Sales Associate   \n6697        6701   30  Female  Bachelor's Degree      Financial Manager   \n6698        6702   46    Male    Master's Degree      Marketing Manager   \n6699        6703   26  Female        High School        Sales Executive   \n\n      Years of Experience       Salary    Country        Race  \n0                     5.0   $90,000.00         UK       White  \n1                     3.0   $65,000.00        USA    Hispanic  \n2                    15.0  $150,000.00     Canada       White  \n3                     7.0   $60,000.00        USA    Hispanic  \n4                    20.0  $200,000.00        USA       Asian  \n...                   ...          ...        ...         ...  \n6695                 20.0  $200,000.00         UK       Mixed  \n6696                  3.0   $50,000.00  Australia  Australian  \n6697                  4.0   $55,000.00      China     Chinese  \n6698                 14.0  $140,000.00      China      Korean  \n6699                  1.0   $35,000.00     Canada       Black  \n\n[6700 rows x 9 columns]",
      "text/html": "<div>\n<style scoped>\n    .dataframe tbody tr th:only-of-type {\n        vertical-align: middle;\n    }\n\n    .dataframe tbody tr th {\n        vertical-align: top;\n    }\n\n    .dataframe thead th {\n        text-align: right;\n    }\n</style>\n<table border=\"1\" class=\"dataframe\">\n  <thead>\n    <tr style=\"text-align: right;\">\n      <th></th>\n      <th>Unnamed: 0</th>\n      <th>Age</th>\n      <th>Gender</th>\n      <th>Education Level</th>\n      <th>Job Title</th>\n      <th>Years of Experience</th>\n      <th>Salary</th>\n      <th>Country</th>\n      <th>Race</th>\n    </tr>\n  </thead>\n  <tbody>\n    <tr>\n      <th>0</th>\n      <td>0</td>\n      <td>32</td>\n      <td>Male</td>\n      <td>Bachelor's</td>\n      <td>Software Engineer</td>\n      <td>5.0</td>\n      <td>$90,000.00</td>\n      <td>UK</td>\n      <td>White</td>\n    </tr>\n    <tr>\n      <th>1</th>\n      <td>1</td>\n      <td>28</td>\n      <td>Female</td>\n      <td>Master's</td>\n      <td>Data Analyst</td>\n      <td>3.0</td>\n      <td>$65,000.00</td>\n      <td>USA</td>\n      <td>Hispanic</td>\n    </tr>\n    <tr>\n      <th>2</th>\n      <td>2</td>\n      <td>45</td>\n      <td>Male</td>\n      <td>PhD</td>\n      <td>Senior Manager</td>\n      <td>15.0</td>\n      <td>$150,000.00</td>\n      <td>Canada</td>\n      <td>White</td>\n    </tr>\n    <tr>\n      <th>3</th>\n      <td>3</td>\n      <td>36</td>\n      <td>Female</td>\n      <td>Bachelor's</td>\n      <td>Sales Associate</td>\n      <td>7.0</td>\n      <td>$60,000.00</td>\n      <td>USA</td>\n      <td>Hispanic</td>\n    </tr>\n    <tr>\n      <th>4</th>\n      <td>4</td>\n      <td>52</td>\n      <td>Male</td>\n      <td>Master's</td>\n      <td>Director</td>\n      <td>20.0</td>\n      <td>$200,000.00</td>\n      <td>USA</td>\n      <td>Asian</td>\n    </tr>\n    <tr>\n      <th>...</th>\n      <td>...</td>\n      <td>...</td>\n      <td>...</td>\n      <td>...</td>\n      <td>...</td>\n      <td>...</td>\n      <td>...</td>\n      <td>...</td>\n      <td>...</td>\n    </tr>\n    <tr>\n      <th>6695</th>\n      <td>6699</td>\n      <td>49</td>\n      <td>Female</td>\n      <td>PhD</td>\n      <td>Director of Marketing</td>\n      <td>20.0</td>\n      <td>$200,000.00</td>\n      <td>UK</td>\n      <td>Mixed</td>\n    </tr>\n    <tr>\n      <th>6696</th>\n      <td>6700</td>\n      <td>32</td>\n      <td>Male</td>\n      <td>High School</td>\n      <td>Sales Associate</td>\n      <td>3.0</td>\n      <td>$50,000.00</td>\n      <td>Australia</td>\n      <td>Australian</td>\n    </tr>\n    <tr>\n      <th>6697</th>\n      <td>6701</td>\n      <td>30</td>\n      <td>Female</td>\n      <td>Bachelor's Degree</td>\n      <td>Financial Manager</td>\n      <td>4.0</td>\n      <td>$55,000.00</td>\n      <td>China</td>\n      <td>Chinese</td>\n    </tr>\n    <tr>\n      <th>6698</th>\n      <td>6702</td>\n      <td>46</td>\n      <td>Male</td>\n      <td>Master's Degree</td>\n      <td>Marketing Manager</td>\n      <td>14.0</td>\n      <td>$140,000.00</td>\n      <td>China</td>\n      <td>Korean</td>\n    </tr>\n    <tr>\n      <th>6699</th>\n      <td>6703</td>\n      <td>26</td>\n      <td>Female</td>\n      <td>High School</td>\n      <td>Sales Executive</td>\n      <td>1.0</td>\n      <td>$35,000.00</td>\n      <td>Canada</td>\n      <td>Black</td>\n    </tr>\n  </tbody>\n</table>\n<p>6700 rows × 9 columns</p>\n</div>"
     },
     "execution_count": 2,
     "metadata": {},
     "output_type": "execute_result"
    }
   ],
   "source": [
    "df = pd.read_csv('Salary_Data_Based_country_and_race - Salary_Data_Based_country_and_race.csv')\n",
    "df"
   ],
   "metadata": {
    "collapsed": false,
    "ExecuteTime": {
     "end_time": "2024-04-17T08:22:36.655117400Z",
     "start_time": "2024-04-17T08:22:36.060440200Z"
    }
   },
   "id": "85d7c593a5755708",
   "execution_count": 2
  },
  {
   "cell_type": "code",
   "outputs": [
    {
     "data": {
      "text/plain": "(6700, 9)"
     },
     "execution_count": 3,
     "metadata": {},
     "output_type": "execute_result"
    }
   ],
   "source": [
    "#checking rows and columns\n",
    "df.shape"
   ],
   "metadata": {
    "collapsed": false,
    "ExecuteTime": {
     "end_time": "2024-04-17T08:22:54.485961900Z",
     "start_time": "2024-04-17T08:22:54.464925300Z"
    }
   },
   "id": "c9a30cfa87b9b89c",
   "execution_count": 3
  },
  {
   "cell_type": "code",
   "outputs": [
    {
     "data": {
      "text/plain": "Unnamed: 0             0\nAge                    0\nGender                 0\nEducation Level        0\nJob Title              0\nYears of Experience    0\nSalary                 2\nCountry                0\nRace                   0\ndtype: int64"
     },
     "execution_count": 4,
     "metadata": {},
     "output_type": "execute_result"
    }
   ],
   "source": [
    "#finding null values in datasets\n",
    "df.isnull().sum()"
   ],
   "metadata": {
    "collapsed": false,
    "ExecuteTime": {
     "end_time": "2024-04-17T08:26:13.918814900Z",
     "start_time": "2024-04-17T08:26:13.894147Z"
    }
   },
   "id": "19fd75f545450ba9",
   "execution_count": 4
  },
  {
   "cell_type": "code",
   "outputs": [],
   "source": [],
   "metadata": {
    "collapsed": false
   },
   "id": "bd775e33d6a63a9e"
  }
 ],
 "metadata": {
  "kernelspec": {
   "display_name": "Python 3",
   "language": "python",
   "name": "python3"
  },
  "language_info": {
   "codemirror_mode": {
    "name": "ipython",
    "version": 2
   },
   "file_extension": ".py",
   "mimetype": "text/x-python",
   "name": "python",
   "nbconvert_exporter": "python",
   "pygments_lexer": "ipython2",
   "version": "2.7.6"
  }
 },
 "nbformat": 4,
 "nbformat_minor": 5
}
