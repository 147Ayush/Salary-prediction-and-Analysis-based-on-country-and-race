{
 "cells": [
  {
   "cell_type": "code",
   "execution_count": 1,
   "id": "initial_id",
   "metadata": {
    "ExecuteTime": {
     "end_time": "2024-04-17T10:03:06.175220600Z",
     "start_time": "2024-04-17T10:03:04.618657Z"
    }
   },
   "outputs": [],
   "source": [
    "#Dpendecies\n",
    "import pandas as pd\n",
    "import numpy as np\n",
    "import matplotlib.pyplot as plt\n",
    "import seaborn as sns\n",
    "from sklearn import metrics\n",
    "import plotly.express as px\n",
    "from sklearn.model_selection import train_test_split\n",
    "from sklearn.linear_model import LogisticRegression\n",
    "from sklearn.tree import DecisionTreeClassifier\n",
    "from sklearn.ensemble import RandomForestClassifier"
   ]
  },
  {
   "cell_type": "markdown",
   "id": "77555f30ae80d0ba",
   "metadata": {
    "collapsed": false,
    "jupyter": {
     "outputs_hidden": false
    }
   },
   "source": [
    "# importing dataset"
   ]
  },
  {
   "cell_type": "code",
   "execution_count": 2,
   "id": "85d7c593a5755708",
   "metadata": {
    "ExecuteTime": {
     "end_time": "2024-04-17T10:03:09.100607700Z",
     "start_time": "2024-04-17T10:03:08.957297600Z"
    },
    "collapsed": false,
    "jupyter": {
     "outputs_hidden": false
    }
   },
   "outputs": [
    {
     "data": {
      "text/html": [
       "<div>\n",
       "<style scoped>\n",
       "    .dataframe tbody tr th:only-of-type {\n",
       "        vertical-align: middle;\n",
       "    }\n",
       "\n",
       "    .dataframe tbody tr th {\n",
       "        vertical-align: top;\n",
       "    }\n",
       "\n",
       "    .dataframe thead th {\n",
       "        text-align: right;\n",
       "    }\n",
       "</style>\n",
       "<table border=\"1\" class=\"dataframe\">\n",
       "  <thead>\n",
       "    <tr style=\"text-align: right;\">\n",
       "      <th></th>\n",
       "      <th>Unnamed: 0</th>\n",
       "      <th>Age</th>\n",
       "      <th>Gender</th>\n",
       "      <th>Education Level</th>\n",
       "      <th>Job Title</th>\n",
       "      <th>Years of Experience</th>\n",
       "      <th>Salary</th>\n",
       "      <th>Country</th>\n",
       "      <th>Race</th>\n",
       "    </tr>\n",
       "  </thead>\n",
       "  <tbody>\n",
       "    <tr>\n",
       "      <th>0</th>\n",
       "      <td>0</td>\n",
       "      <td>32</td>\n",
       "      <td>Male</td>\n",
       "      <td>Bachelor's</td>\n",
       "      <td>Software Engineer</td>\n",
       "      <td>5.0</td>\n",
       "      <td>$90,000.00</td>\n",
       "      <td>UK</td>\n",
       "      <td>White</td>\n",
       "    </tr>\n",
       "    <tr>\n",
       "      <th>1</th>\n",
       "      <td>1</td>\n",
       "      <td>28</td>\n",
       "      <td>Female</td>\n",
       "      <td>Master's</td>\n",
       "      <td>Data Analyst</td>\n",
       "      <td>3.0</td>\n",
       "      <td>$65,000.00</td>\n",
       "      <td>USA</td>\n",
       "      <td>Hispanic</td>\n",
       "    </tr>\n",
       "    <tr>\n",
       "      <th>2</th>\n",
       "      <td>2</td>\n",
       "      <td>45</td>\n",
       "      <td>Male</td>\n",
       "      <td>PhD</td>\n",
       "      <td>Senior Manager</td>\n",
       "      <td>15.0</td>\n",
       "      <td>$150,000.00</td>\n",
       "      <td>Canada</td>\n",
       "      <td>White</td>\n",
       "    </tr>\n",
       "    <tr>\n",
       "      <th>3</th>\n",
       "      <td>3</td>\n",
       "      <td>36</td>\n",
       "      <td>Female</td>\n",
       "      <td>Bachelor's</td>\n",
       "      <td>Sales Associate</td>\n",
       "      <td>7.0</td>\n",
       "      <td>$60,000.00</td>\n",
       "      <td>USA</td>\n",
       "      <td>Hispanic</td>\n",
       "    </tr>\n",
       "    <tr>\n",
       "      <th>4</th>\n",
       "      <td>4</td>\n",
       "      <td>52</td>\n",
       "      <td>Male</td>\n",
       "      <td>Master's</td>\n",
       "      <td>Director</td>\n",
       "      <td>20.0</td>\n",
       "      <td>$200,000.00</td>\n",
       "      <td>USA</td>\n",
       "      <td>Asian</td>\n",
       "    </tr>\n",
       "    <tr>\n",
       "      <th>...</th>\n",
       "      <td>...</td>\n",
       "      <td>...</td>\n",
       "      <td>...</td>\n",
       "      <td>...</td>\n",
       "      <td>...</td>\n",
       "      <td>...</td>\n",
       "      <td>...</td>\n",
       "      <td>...</td>\n",
       "      <td>...</td>\n",
       "    </tr>\n",
       "    <tr>\n",
       "      <th>6695</th>\n",
       "      <td>6699</td>\n",
       "      <td>49</td>\n",
       "      <td>Female</td>\n",
       "      <td>PhD</td>\n",
       "      <td>Director of Marketing</td>\n",
       "      <td>20.0</td>\n",
       "      <td>$200,000.00</td>\n",
       "      <td>UK</td>\n",
       "      <td>Mixed</td>\n",
       "    </tr>\n",
       "    <tr>\n",
       "      <th>6696</th>\n",
       "      <td>6700</td>\n",
       "      <td>32</td>\n",
       "      <td>Male</td>\n",
       "      <td>High School</td>\n",
       "      <td>Sales Associate</td>\n",
       "      <td>3.0</td>\n",
       "      <td>$50,000.00</td>\n",
       "      <td>Australia</td>\n",
       "      <td>Australian</td>\n",
       "    </tr>\n",
       "    <tr>\n",
       "      <th>6697</th>\n",
       "      <td>6701</td>\n",
       "      <td>30</td>\n",
       "      <td>Female</td>\n",
       "      <td>Bachelor's Degree</td>\n",
       "      <td>Financial Manager</td>\n",
       "      <td>4.0</td>\n",
       "      <td>$55,000.00</td>\n",
       "      <td>China</td>\n",
       "      <td>Chinese</td>\n",
       "    </tr>\n",
       "    <tr>\n",
       "      <th>6698</th>\n",
       "      <td>6702</td>\n",
       "      <td>46</td>\n",
       "      <td>Male</td>\n",
       "      <td>Master's Degree</td>\n",
       "      <td>Marketing Manager</td>\n",
       "      <td>14.0</td>\n",
       "      <td>$140,000.00</td>\n",
       "      <td>China</td>\n",
       "      <td>Korean</td>\n",
       "    </tr>\n",
       "    <tr>\n",
       "      <th>6699</th>\n",
       "      <td>6703</td>\n",
       "      <td>26</td>\n",
       "      <td>Female</td>\n",
       "      <td>High School</td>\n",
       "      <td>Sales Executive</td>\n",
       "      <td>1.0</td>\n",
       "      <td>$35,000.00</td>\n",
       "      <td>Canada</td>\n",
       "      <td>Black</td>\n",
       "    </tr>\n",
       "  </tbody>\n",
       "</table>\n",
       "<p>6700 rows × 9 columns</p>\n",
       "</div>"
      ],
      "text/plain": [
       "      Unnamed: 0  Age  Gender    Education Level              Job Title  \\\n",
       "0              0   32    Male         Bachelor's      Software Engineer   \n",
       "1              1   28  Female           Master's           Data Analyst   \n",
       "2              2   45    Male                PhD         Senior Manager   \n",
       "3              3   36  Female         Bachelor's        Sales Associate   \n",
       "4              4   52    Male           Master's               Director   \n",
       "...          ...  ...     ...                ...                    ...   \n",
       "6695        6699   49  Female                PhD  Director of Marketing   \n",
       "6696        6700   32    Male        High School        Sales Associate   \n",
       "6697        6701   30  Female  Bachelor's Degree      Financial Manager   \n",
       "6698        6702   46    Male    Master's Degree      Marketing Manager   \n",
       "6699        6703   26  Female        High School        Sales Executive   \n",
       "\n",
       "      Years of Experience       Salary    Country        Race  \n",
       "0                     5.0   $90,000.00         UK       White  \n",
       "1                     3.0   $65,000.00        USA    Hispanic  \n",
       "2                    15.0  $150,000.00     Canada       White  \n",
       "3                     7.0   $60,000.00        USA    Hispanic  \n",
       "4                    20.0  $200,000.00        USA       Asian  \n",
       "...                   ...          ...        ...         ...  \n",
       "6695                 20.0  $200,000.00         UK       Mixed  \n",
       "6696                  3.0   $50,000.00  Australia  Australian  \n",
       "6697                  4.0   $55,000.00      China     Chinese  \n",
       "6698                 14.0  $140,000.00      China      Korean  \n",
       "6699                  1.0   $35,000.00     Canada       Black  \n",
       "\n",
       "[6700 rows x 9 columns]"
      ]
     },
     "execution_count": 2,
     "metadata": {},
     "output_type": "execute_result"
    }
   ],
   "source": [
    "df = pd.read_csv('Salary_Data_Based_country_and_race - Salary_Data_Based_country_and_race.csv')\n",
    "df"
   ]
  },
  {
   "cell_type": "code",
   "execution_count": 3,
   "id": "c9a30cfa87b9b89c",
   "metadata": {
    "ExecuteTime": {
     "end_time": "2024-04-17T10:03:17.048003300Z",
     "start_time": "2024-04-17T10:03:16.989629Z"
    },
    "collapsed": false,
    "jupyter": {
     "outputs_hidden": false
    }
   },
   "outputs": [
    {
     "data": {
      "text/plain": [
       "(6700, 9)"
      ]
     },
     "execution_count": 3,
     "metadata": {},
     "output_type": "execute_result"
    }
   ],
   "source": [
    "#checking numbers of rows and columns\n",
    "df.shape"
   ]
  },
  {
   "cell_type": "code",
   "execution_count": 4,
   "id": "19fd75f545450ba9",
   "metadata": {
    "ExecuteTime": {
     "end_time": "2024-04-17T10:03:19.906549900Z",
     "start_time": "2024-04-17T10:03:19.861841300Z"
    },
    "collapsed": false,
    "jupyter": {
     "outputs_hidden": false
    }
   },
   "outputs": [
    {
     "data": {
      "text/plain": [
       "Unnamed: 0             0\n",
       "Age                    0\n",
       "Gender                 0\n",
       "Education Level        0\n",
       "Job Title              0\n",
       "Years of Experience    0\n",
       "Salary                 2\n",
       "Country                0\n",
       "Race                   0\n",
       "dtype: int64"
      ]
     },
     "execution_count": 4,
     "metadata": {},
     "output_type": "execute_result"
    }
   ],
   "source": [
    "#finding null values in datasets\n",
    "df.isnull().sum()"
   ]
  },
  {
   "cell_type": "code",
   "execution_count": 5,
   "id": "bd775e33d6a63a9e",
   "metadata": {
    "ExecuteTime": {
     "end_time": "2024-04-17T10:03:23.333412300Z",
     "start_time": "2024-04-17T10:03:23.321775900Z"
    },
    "collapsed": false,
    "jupyter": {
     "outputs_hidden": false
    }
   },
   "outputs": [
    {
     "name": "stdout",
     "output_type": "stream",
     "text": [
      "<class 'pandas.core.frame.DataFrame'>\n",
      "RangeIndex: 6700 entries, 0 to 6699\n",
      "Data columns (total 9 columns):\n",
      " #   Column               Non-Null Count  Dtype  \n",
      "---  ------               --------------  -----  \n",
      " 0   Unnamed: 0           6700 non-null   int64  \n",
      " 1   Age                  6700 non-null   int64  \n",
      " 2   Gender               6700 non-null   object \n",
      " 3   Education Level      6700 non-null   object \n",
      " 4   Job Title            6700 non-null   object \n",
      " 5   Years of Experience  6700 non-null   float64\n",
      " 6   Salary               6698 non-null   object \n",
      " 7   Country              6700 non-null   object \n",
      " 8   Race                 6700 non-null   object \n",
      "dtypes: float64(1), int64(2), object(6)\n",
      "memory usage: 471.2+ KB\n"
     ]
    }
   ],
   "source": [
    "df.info()"
   ]
  },
  {
   "cell_type": "code",
   "execution_count": 6,
   "id": "629dae4e974328a6",
   "metadata": {
    "ExecuteTime": {
     "end_time": "2024-04-17T10:04:49.355631700Z",
     "start_time": "2024-04-17T10:04:49.318849500Z"
    },
    "collapsed": false,
    "jupyter": {
     "outputs_hidden": false
    }
   },
   "outputs": [],
   "source": [
    "#Dropping rows containing null values.\n",
    "df.dropna(inplace=True)"
   ]
  },
  {
   "cell_type": "code",
   "execution_count": 7,
   "id": "1a6126a3e7f493ca",
   "metadata": {
    "ExecuteTime": {
     "end_time": "2024-04-17T10:04:58.072039100Z",
     "start_time": "2024-04-17T10:04:58.046468300Z"
    },
    "collapsed": false,
    "jupyter": {
     "outputs_hidden": false
    }
   },
   "outputs": [
    {
     "data": {
      "text/plain": [
       "(6698, 9)"
      ]
     },
     "execution_count": 7,
     "metadata": {},
     "output_type": "execute_result"
    }
   ],
   "source": [
    "df.shape"
   ]
  },
  {
   "cell_type": "code",
   "execution_count": 8,
   "id": "294123844f4f3cb1",
   "metadata": {
    "ExecuteTime": {
     "end_time": "2024-04-17T10:06:07.379182800Z",
     "start_time": "2024-04-17T10:06:07.347752500Z"
    },
    "collapsed": false,
    "jupyter": {
     "outputs_hidden": false
    }
   },
   "outputs": [
    {
     "data": {
      "text/html": [
       "<div>\n",
       "<style scoped>\n",
       "    .dataframe tbody tr th:only-of-type {\n",
       "        vertical-align: middle;\n",
       "    }\n",
       "\n",
       "    .dataframe tbody tr th {\n",
       "        vertical-align: top;\n",
       "    }\n",
       "\n",
       "    .dataframe thead th {\n",
       "        text-align: right;\n",
       "    }\n",
       "</style>\n",
       "<table border=\"1\" class=\"dataframe\">\n",
       "  <thead>\n",
       "    <tr style=\"text-align: right;\">\n",
       "      <th></th>\n",
       "      <th>Unnamed: 0</th>\n",
       "      <th>Age</th>\n",
       "      <th>Gender</th>\n",
       "      <th>Education Level</th>\n",
       "      <th>Job Title</th>\n",
       "      <th>Years of Experience</th>\n",
       "      <th>Salary</th>\n",
       "      <th>Country</th>\n",
       "      <th>Race</th>\n",
       "    </tr>\n",
       "  </thead>\n",
       "  <tbody>\n",
       "    <tr>\n",
       "      <th>0</th>\n",
       "      <td>0</td>\n",
       "      <td>32</td>\n",
       "      <td>Male</td>\n",
       "      <td>Bachelor's</td>\n",
       "      <td>Software Engineer</td>\n",
       "      <td>5.0</td>\n",
       "      <td>$90,000.00</td>\n",
       "      <td>UK</td>\n",
       "      <td>White</td>\n",
       "    </tr>\n",
       "    <tr>\n",
       "      <th>1</th>\n",
       "      <td>1</td>\n",
       "      <td>28</td>\n",
       "      <td>Female</td>\n",
       "      <td>Master's</td>\n",
       "      <td>Data Analyst</td>\n",
       "      <td>3.0</td>\n",
       "      <td>$65,000.00</td>\n",
       "      <td>USA</td>\n",
       "      <td>Hispanic</td>\n",
       "    </tr>\n",
       "    <tr>\n",
       "      <th>2</th>\n",
       "      <td>2</td>\n",
       "      <td>45</td>\n",
       "      <td>Male</td>\n",
       "      <td>PhD</td>\n",
       "      <td>Senior Manager</td>\n",
       "      <td>15.0</td>\n",
       "      <td>$150,000.00</td>\n",
       "      <td>Canada</td>\n",
       "      <td>White</td>\n",
       "    </tr>\n",
       "    <tr>\n",
       "      <th>3</th>\n",
       "      <td>3</td>\n",
       "      <td>36</td>\n",
       "      <td>Female</td>\n",
       "      <td>Bachelor's</td>\n",
       "      <td>Sales Associate</td>\n",
       "      <td>7.0</td>\n",
       "      <td>$60,000.00</td>\n",
       "      <td>USA</td>\n",
       "      <td>Hispanic</td>\n",
       "    </tr>\n",
       "    <tr>\n",
       "      <th>4</th>\n",
       "      <td>4</td>\n",
       "      <td>52</td>\n",
       "      <td>Male</td>\n",
       "      <td>Master's</td>\n",
       "      <td>Director</td>\n",
       "      <td>20.0</td>\n",
       "      <td>$200,000.00</td>\n",
       "      <td>USA</td>\n",
       "      <td>Asian</td>\n",
       "    </tr>\n",
       "    <tr>\n",
       "      <th>...</th>\n",
       "      <td>...</td>\n",
       "      <td>...</td>\n",
       "      <td>...</td>\n",
       "      <td>...</td>\n",
       "      <td>...</td>\n",
       "      <td>...</td>\n",
       "      <td>...</td>\n",
       "      <td>...</td>\n",
       "      <td>...</td>\n",
       "    </tr>\n",
       "    <tr>\n",
       "      <th>6695</th>\n",
       "      <td>6699</td>\n",
       "      <td>49</td>\n",
       "      <td>Female</td>\n",
       "      <td>PhD</td>\n",
       "      <td>Director of Marketing</td>\n",
       "      <td>20.0</td>\n",
       "      <td>$200,000.00</td>\n",
       "      <td>UK</td>\n",
       "      <td>Mixed</td>\n",
       "    </tr>\n",
       "    <tr>\n",
       "      <th>6696</th>\n",
       "      <td>6700</td>\n",
       "      <td>32</td>\n",
       "      <td>Male</td>\n",
       "      <td>High School</td>\n",
       "      <td>Sales Associate</td>\n",
       "      <td>3.0</td>\n",
       "      <td>$50,000.00</td>\n",
       "      <td>Australia</td>\n",
       "      <td>Australian</td>\n",
       "    </tr>\n",
       "    <tr>\n",
       "      <th>6697</th>\n",
       "      <td>6701</td>\n",
       "      <td>30</td>\n",
       "      <td>Female</td>\n",
       "      <td>Bachelor's Degree</td>\n",
       "      <td>Financial Manager</td>\n",
       "      <td>4.0</td>\n",
       "      <td>$55,000.00</td>\n",
       "      <td>China</td>\n",
       "      <td>Chinese</td>\n",
       "    </tr>\n",
       "    <tr>\n",
       "      <th>6698</th>\n",
       "      <td>6702</td>\n",
       "      <td>46</td>\n",
       "      <td>Male</td>\n",
       "      <td>Master's Degree</td>\n",
       "      <td>Marketing Manager</td>\n",
       "      <td>14.0</td>\n",
       "      <td>$140,000.00</td>\n",
       "      <td>China</td>\n",
       "      <td>Korean</td>\n",
       "    </tr>\n",
       "    <tr>\n",
       "      <th>6699</th>\n",
       "      <td>6703</td>\n",
       "      <td>26</td>\n",
       "      <td>Female</td>\n",
       "      <td>High School</td>\n",
       "      <td>Sales Executive</td>\n",
       "      <td>1.0</td>\n",
       "      <td>$35,000.00</td>\n",
       "      <td>Canada</td>\n",
       "      <td>Black</td>\n",
       "    </tr>\n",
       "  </tbody>\n",
       "</table>\n",
       "<p>6698 rows × 9 columns</p>\n",
       "</div>"
      ],
      "text/plain": [
       "      Unnamed: 0  Age  Gender    Education Level              Job Title  \\\n",
       "0              0   32    Male         Bachelor's      Software Engineer   \n",
       "1              1   28  Female           Master's           Data Analyst   \n",
       "2              2   45    Male                PhD         Senior Manager   \n",
       "3              3   36  Female         Bachelor's        Sales Associate   \n",
       "4              4   52    Male           Master's               Director   \n",
       "...          ...  ...     ...                ...                    ...   \n",
       "6695        6699   49  Female                PhD  Director of Marketing   \n",
       "6696        6700   32    Male        High School        Sales Associate   \n",
       "6697        6701   30  Female  Bachelor's Degree      Financial Manager   \n",
       "6698        6702   46    Male    Master's Degree      Marketing Manager   \n",
       "6699        6703   26  Female        High School        Sales Executive   \n",
       "\n",
       "      Years of Experience       Salary    Country        Race  \n",
       "0                     5.0   $90,000.00         UK       White  \n",
       "1                     3.0   $65,000.00        USA    Hispanic  \n",
       "2                    15.0  $150,000.00     Canada       White  \n",
       "3                     7.0   $60,000.00        USA    Hispanic  \n",
       "4                    20.0  $200,000.00        USA       Asian  \n",
       "...                   ...          ...        ...         ...  \n",
       "6695                 20.0  $200,000.00         UK       Mixed  \n",
       "6696                  3.0   $50,000.00  Australia  Australian  \n",
       "6697                  4.0   $55,000.00      China     Chinese  \n",
       "6698                 14.0  $140,000.00      China      Korean  \n",
       "6699                  1.0   $35,000.00     Canada       Black  \n",
       "\n",
       "[6698 rows x 9 columns]"
      ]
     },
     "execution_count": 8,
     "metadata": {},
     "output_type": "execute_result"
    }
   ],
   "source": [
    "df"
   ]
  },
  {
   "cell_type": "code",
   "execution_count": 9,
   "id": "b1cd471595fa2daa",
   "metadata": {
    "ExecuteTime": {
     "end_time": "2024-04-17T10:09:18.856220800Z",
     "start_time": "2024-04-17T10:09:18.827355Z"
    },
    "collapsed": false,
    "jupyter": {
     "outputs_hidden": false
    }
   },
   "outputs": [
    {
     "data": {
      "text/plain": [
       "array([\"Bachelor's\", \"Master's\", 'PhD', \"Bachelor's Degree\",\n",
       "       \"Master's Degree\", 'High School', 'phD'], dtype=object)"
      ]
     },
     "execution_count": 9,
     "metadata": {},
     "output_type": "execute_result"
    }
   ],
   "source": [
    "df['Education Level'].unique()"
   ]
  },
  {
   "cell_type": "markdown",
   "id": "aaf445a00233dcfb",
   "metadata": {
    "collapsed": false,
    "jupyter": {
     "outputs_hidden": false
    }
   },
   "source": [
    "# Education\n",
    "## To ensure consistent analysis, we should standardize entries at the same level."
   ]
  },
  {
   "cell_type": "code",
   "execution_count": 10,
   "id": "89452756228039d0",
   "metadata": {
    "ExecuteTime": {
     "end_time": "2024-04-17T10:17:05.880964300Z",
     "start_time": "2024-04-17T10:17:05.851091600Z"
    },
    "collapsed": false,
    "jupyter": {
     "outputs_hidden": false
    }
   },
   "outputs": [],
   "source": [
    "df['Education Level']=df['Education Level'].replace(\"Bachelor's Degree\",\"Bachelor's\")\n",
    "df['Education Level']=df['Education Level'].replace(\"Master's Degree\",\"Master's\")\n",
    "df['Education Level']=df['Education Level'].replace(\"phD\",\"PhD\")"
   ]
  },
  {
   "cell_type": "code",
   "execution_count": 11,
   "id": "b5e6592d1ed12bba",
   "metadata": {
    "ExecuteTime": {
     "end_time": "2024-04-17T10:17:07.507101100Z",
     "start_time": "2024-04-17T10:17:07.469656100Z"
    },
    "collapsed": false,
    "jupyter": {
     "outputs_hidden": false
    }
   },
   "outputs": [
    {
     "data": {
      "text/plain": [
       "array([\"Bachelor's\", \"Master's\", 'PhD', 'High School'], dtype=object)"
      ]
     },
     "execution_count": 11,
     "metadata": {},
     "output_type": "execute_result"
    }
   ],
   "source": [
    "df['Education Level'].unique()"
   ]
  },
  {
   "cell_type": "markdown",
   "id": "da6c4109dd9cc23b",
   "metadata": {
    "collapsed": false,
    "jupyter": {
     "outputs_hidden": false
    }
   },
   "source": [
    "## Now all entries are standardize at the same level"
   ]
  },
  {
   "cell_type": "markdown",
   "id": "e9e2f02a68e156f9",
   "metadata": {
    "collapsed": false,
    "jupyter": {
     "outputs_hidden": false
    }
   },
   "source": [
    "# Exploratory Data Analysis"
   ]
  },
  {
   "cell_type": "markdown",
   "id": "83907722ee3d5dc5",
   "metadata": {
    "collapsed": false,
    "jupyter": {
     "outputs_hidden": false
    }
   },
   "source": [
    "## Number of entries from each country"
   ]
  },
  {
   "cell_type": "code",
   "execution_count": 12,
   "id": "7c83039a0cbe2943",
   "metadata": {
    "ExecuteTime": {
     "end_time": "2024-04-17T11:21:09.167202300Z",
     "start_time": "2024-04-17T11:21:09.123999800Z"
    },
    "collapsed": false,
    "jupyter": {
     "outputs_hidden": false
    }
   },
   "outputs": [
    {
     "data": {
      "text/html": [
       "<div>\n",
       "<style scoped>\n",
       "    .dataframe tbody tr th:only-of-type {\n",
       "        vertical-align: middle;\n",
       "    }\n",
       "\n",
       "    .dataframe tbody tr th {\n",
       "        vertical-align: top;\n",
       "    }\n",
       "\n",
       "    .dataframe thead th {\n",
       "        text-align: right;\n",
       "    }\n",
       "</style>\n",
       "<table border=\"1\" class=\"dataframe\">\n",
       "  <thead>\n",
       "    <tr style=\"text-align: right;\">\n",
       "      <th></th>\n",
       "      <th>country</th>\n",
       "      <th>count</th>\n",
       "    </tr>\n",
       "  </thead>\n",
       "  <tbody>\n",
       "    <tr>\n",
       "      <th>0</th>\n",
       "      <td>USA</td>\n",
       "      <td>1359</td>\n",
       "    </tr>\n",
       "    <tr>\n",
       "      <th>1</th>\n",
       "      <td>China</td>\n",
       "      <td>1343</td>\n",
       "    </tr>\n",
       "    <tr>\n",
       "      <th>2</th>\n",
       "      <td>Australia</td>\n",
       "      <td>1336</td>\n",
       "    </tr>\n",
       "    <tr>\n",
       "      <th>3</th>\n",
       "      <td>UK</td>\n",
       "      <td>1335</td>\n",
       "    </tr>\n",
       "    <tr>\n",
       "      <th>4</th>\n",
       "      <td>Canada</td>\n",
       "      <td>1325</td>\n",
       "    </tr>\n",
       "  </tbody>\n",
       "</table>\n",
       "</div>"
      ],
      "text/plain": [
       "     country  count\n",
       "0        USA   1359\n",
       "1      China   1343\n",
       "2  Australia   1336\n",
       "3         UK   1335\n",
       "4     Canada   1325"
      ]
     },
     "execution_count": 12,
     "metadata": {},
     "output_type": "execute_result"
    }
   ],
   "source": [
    "country_ = df['Country'].value_counts().reset_index()\n",
    "country_.columns = ['country','count']\n",
    "country_"
   ]
  },
  {
   "cell_type": "markdown",
   "id": "c7baadc4f97c5d2b",
   "metadata": {
    "collapsed": false,
    "jupyter": {
     "outputs_hidden": false
    }
   },
   "source": [
    "## visualization"
   ]
  },
  {
   "cell_type": "code",
   "execution_count": 14,
   "id": "3daac797c99788bb",
   "metadata": {
    "ExecuteTime": {
     "end_time": "2024-04-17T11:27:01.794741900Z",
     "start_time": "2024-04-17T11:27:01.695898Z"
    },
    "collapsed": false,
    "jupyter": {
     "outputs_hidden": false
    }
   },
   "outputs": [
    {
     "data": {
      "text/plain": [
       "Text(0.5, 1.0, 'Number of entries from each country')"
      ]
     },
     "execution_count": 14,
     "metadata": {},
     "output_type": "execute_result"
    },
    {
     "data": {
      "image/png": "[encoded data removed]",
      "text/plain": [
       "<Figure size 640x480 with 1 Axes>"
      ]
     },
     "metadata": {},
     "output_type": "display_data"
    }
   ],
   "source": [
    "sns.barplot(country_,x='country',y='count',hue='country', dodge=False)\n",
    "# fig = px.bar(country_,x='country',y='count',color='country')\n",
    "plt.title(\"Number of entries from each country\")"
   ]
  },
  {
   "cell_type": "markdown",
   "id": "120815f9dc4eb20f",
   "metadata": {
    "collapsed": false,
    "jupyter": {
     "outputs_hidden": false
    }
   },
   "source": [
    "# number of people form different races"
   ]
  },
  {
   "cell_type": "code",
   "execution_count": null,
   "id": "2a0056648d0b01e4",
   "metadata": {
    "collapsed": false,
    "jupyter": {
     "outputs_hidden": false
    }
   },
   "outputs": [],
   "source": []
  }
 ],
 "metadata": {
  "kernelspec": {
   "display_name": "Python 3 (ipykernel)",
   "language": "python",
   "name": "python3"
  },
  "language_info": {
   "codemirror_mode": {
    "name": "ipython",
    "version": 3
   },
   "file_extension": ".py",
   "mimetype": "text/x-python",
   "name": "python",
   "nbconvert_exporter": "python",
   "pygments_lexer": "ipython3",
   "version": "3.11.4"
  }
 },
 "nbformat": 4,
 "nbformat_minor": 5
}
